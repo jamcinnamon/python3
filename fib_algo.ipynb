{
 "cells": [
  {
   "cell_type": "markdown",
   "metadata": {},
   "source": [
    "## Bubble Sorted"
   ]
  },
  {
   "cell_type": "code",
   "execution_count": null,
   "metadata": {},
   "outputs": [],
   "source": [
    "def div(f, b):\n",
    "    b = 1234567\n",
    "    f= int(input(f\"피보나치 수열 숫자 입력 후 123456으로 나눈 {b}나머지 구하기\"))\n",
    "\n",
    "    for i in range(1, 100000):\n",
    "        f[i]=f[i-1]+f[i-2]\n",
    "\n",
    "    return f[i] % int(b)"
   ]
  },
  {
   "cell_type": "code",
   "execution_count": null,
   "metadata": {},
   "outputs": [],
   "source": [
    "def shorts(n, times):\n",
    "    times= [7, 10]\n",
    "    n = 4\n",
    "    x = 1\n",
    "    y = max(times) * n\n",
    "    while x < y:\n",
    "        mid = (x + y) // 2\n",
    "    \n",
    "        totaltime = sum()\n",
    "        for time in times:\n",
    "\n",
    "            times[0]*time + times[1]*time // n\n",
    "times[1]*x\n",
    "if times[0]*i / times[0] == 0:\n",
    "    time += times[0]"
   ]
  },
  {
   "cell_type": "markdown",
   "metadata": {},
   "source": [
    "## 합병정렬 (merge sorted)\n",
    "### div and merge"
   ]
  },
  {
   "cell_type": "markdown",
   "metadata": {},
   "source": []
  }
 ],
 "metadata": {
  "language_info": {
   "name": "python"
  }
 },
 "nbformat": 4,
 "nbformat_minor": 2
}
