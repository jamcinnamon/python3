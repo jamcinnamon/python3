{
  "nbformat": 4,
  "nbformat_minor": 0,
  "metadata": {
    "colab": {
      "provenance": [],
      "name": "max_min.ipynb"
    },
    "kernelspec": {
      "name": "python3",
      "display_name": "Python 3"
    },
    "language_info": {
      "name": "python"
    }
  },
  "cells": [
    {
      "cell_type": "markdown",
      "source": [
        "## min() 함수\n",
        "## 실전 문제풀이\n",
        "\n",
        "### max(), min() 함수의 직접 구현\n"
      ],
      "metadata": {
        "id": "Ll4f9RGPivUK"
      }
    },
    {
      "cell_type": "code",
      "execution_count": null,
      "metadata": {
        "id": "0LSXrq-6Rwh5",
        "colab": {
          "base_uri": "https://localhost:8080/"
        },
        "outputId": "35ae6482-ad68-451f-91f2-e71b5c47ae1c"
      },
      "outputs": [
        {
          "output_type": "stream",
          "name": "stdout",
          "text": [
            "-3\n"
          ]
        }
      ],
      "source": [
        "lst = [-1, 5, -3, 0 ,4, 2, 9]\n",
        "k = 0\n",
        "for i in lst:\n",
        "  if i < k < 0:\n",
        "    k = i\n",
        "  elif i < k:\n",
        "    k = i\n",
        "else:\n",
        "  k = k\n",
        "print(k)"
      ]
    },
    {
      "cell_type": "code",
      "source": [
        "numbers = [3, 5, 7, 10, 1, -1, 5, 3]\n",
        "k = 0\n",
        "for i in numbers:\n",
        "  if k < i:\n",
        "    k = i\n",
        "  if k in numbers:\n",
        "    continue\n",
        "print(k)"
      ],
      "metadata": {
        "id": "TBygRKsSBtf4"
      },
      "execution_count": null,
      "outputs": []
    },
    {
      "cell_type": "code",
      "source": [
        "## 실전 문제풀이\n",
        "\n",
        "    # nums = [7, 1, 2, 4, 6, 8, 3]\n",
        "\n",
        "    # # 최댓값\n",
        "    # max_num = -1  # 작은 수로 초기화\n",
        "    # for num in nums:\n",
        "    #     if max_num < num:\n",
        "    #         max_num = num\n",
        "\n",
        "    # print(max_num)\n",
        "\n",
        "    # min_num = 9999  # 큰 수로 초기화\n",
        "    # for num in nums:\n",
        "    #     if min_num > num:\n",
        "    #         min_num = num\n",
        "    # print(min_num)\n",
        "\n"
      ],
      "metadata": {
        "id": "39Fkww0U3dVX"
      },
      "execution_count": null,
      "outputs": []
    }
  ]
}